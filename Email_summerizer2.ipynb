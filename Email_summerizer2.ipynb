{
 "cells": [
  {
   "cell_type": "code",
   "execution_count": 10,
   "id": "ee36268e",
   "metadata": {},
   "outputs": [],
   "source": [
    "import os\n",
    "import json\n",
    "from langchain_community.document_loaders import PyPDFLoader\n",
    "from langchain_groq.chat_models import ChatGroq\n",
    "from langchain.prompts import PromptTemplate"
   ]
  },
  {
   "cell_type": "code",
   "execution_count": 11,
   "id": "514610ff",
   "metadata": {},
   "outputs": [],
   "source": [
    "groq_api_key = os.getenv(\"GROQ_API_KEY\")\n",
    "\n",
    "llm = ChatGroq(\n",
    "    model_name=\"llama3-8b-8192\",  # Best balance for summarization\n",
    "    groq_api_key=groq_api_key,\n",
    "    temperature=0.2\n",
    ")"
   ]
  },
  {
   "cell_type": "code",
   "execution_count": 12,
   "id": "cec8dd8e",
   "metadata": {},
   "outputs": [],
   "source": [
    "from langchain_core.messages import HumanMessage, SystemMessage\n",
    "\n",
    "messages = [\n",
    "    SystemMessage(content=\"you are intelligent chat bot i need to give summrized subject and body\"),\n",
    "    HumanMessage(content=\"{}\")\n",
    "]"
   ]
  },
  {
   "cell_type": "code",
   "execution_count": 13,
   "id": "9bd52f0e",
   "metadata": {},
   "outputs": [],
   "source": [
    "from langchain_core.prompts import ChatPromptTemplate\n",
    "from langchain_core.output_parsers import StrOutputParser\n",
    "\n",
    "prompt = ChatPromptTemplate.from_messages(\n",
    "    [\n",
    "        (\n",
    "            \"system\", \"you are intelligent chat bot i need to give summrized subject and body\"\n",
    "        ),\n",
    "        (\n",
    "            \"user\", \"{Subject} and {body} Summerize\"\n",
    "        )\n",
    "    ]\n",
    ")\n",
    "\n",
    "chain = prompt | llm | StrOutputParser()"
   ]
  },
  {
   "cell_type": "code",
   "execution_count": 14,
   "id": "afb475c3",
   "metadata": {},
   "outputs": [],
   "source": [
    "email_body = \"\"\" \n",
    "Dear Team,\n",
    "\n",
    "I hope this email finds you well.\n",
    "\n",
    "As we close the third quarter of the fiscal year, I would like to take this opportunity to share important updates regarding our company’s performance, newly implemented HR policies, and gather feedback from each department to help shape our direction for Q4.\n",
    "\n",
    "📊 Q3 Highlights:\n",
    "This quarter has been marked by several notable achievements across all departments. Our sales team exceeded targets by 18%, largely due to successful outreach campaigns and onboarding of three major enterprise clients. The product team rolled out the long-anticipated AI-powered analytics module, which has already received positive feedback from early adopters. Meanwhile, operations has reduced turnaround times by 25%, significantly improving client satisfaction scores.\n",
    "\n",
    "📝 Policy Updates:\n",
    "We have implemented a few key HR policy changes that will take effect from October 1st:\n",
    "1. Remote Work Policy: Employees may now work remotely up to 3 days a week with prior approval from their team leads.\n",
    "2. Leave Management: The new system will automatically update and carry over unused paid leave to the next fiscal year, capped at 10 days.\n",
    "3. Wellness Initiatives: Monthly wellness sessions will now include mental health check-ins, and participation will be tracked for wellness incentive points.\n",
    "\n",
    "📥 Your Feedback is Needed:\n",
    "To continuously improve, we request every team member to fill out the **Q3 Feedback Form** by October 5th. Your input will help us refine our strategies for employee engagement, workspace optimization, and leadership effectiveness. We are particularly interested in hearing how the new collaboration tools (e.g., Notion, Slack AI, Zoom integrations) have impacted your workflows.\n",
    "\n",
    "🏆 Team Recognition:\n",
    "A special shoutout to the CX team for resolving over 95% of support queries within SLA, and to the Design team for completing the entire brand refresh 3 weeks ahead of schedule.\n",
    "\n",
    "📅 Upcoming Events:\n",
    "- Q3 Town Hall – Oct 6, 4:00 PM IST\n",
    "- Hackathon 2.0 Kickoff – Oct 10\n",
    "- Diwali Celebration (Hybrid) – Nov 8\n",
    "\n",
    "If you have questions or would like to discuss any of the topics mentioned above, feel free to reach out to your department head or reply directly to this email.\n",
    "\n",
    "Thank you for your continued hard work, commitment, and collaboration. Let’s keep the momentum going into Q4!\n",
    "\n",
    "Warm regards,  \n",
    "Neha Kapoor  \n",
    "HR Director – Innotronix Solutions  \n",
    "hr@innotronix.com\n",
    "\n",
    "\n",
    "\"\"\"\n",
    "email_subject=\"Q3 Performance Review, Policy Updates, and Team Feedback Request\""
   ]
  },
  {
   "cell_type": "code",
   "execution_count": 16,
   "id": "3d5ffe46",
   "metadata": {},
   "outputs": [],
   "source": [
    "ans = chain.invoke(\n",
    "    {\"Subject\":email_subject,\n",
    "    \"body\" : email_body}\n",
    ")"
   ]
  },
  {
   "cell_type": "code",
   "execution_count": 18,
   "id": "ac88b7b2",
   "metadata": {},
   "outputs": [
    {
     "name": "stdout",
     "output_type": "stream",
     "text": [
      "Here is a summarized version of the email:\n",
      "\n",
      "**Subject:** Q3 Performance Review, Policy Updates, and Team Feedback Request\n",
      "\n",
      "**Body:**\n",
      "\n",
      "* Q3 highlights: Sales team exceeded targets, product team rolled out AI-powered analytics module, and operations reduced turnaround times.\n",
      "* Policy updates: Remote work policy, leave management, and wellness initiatives.\n",
      "* Feedback request: Fill out Q3 Feedback Form by October 5th to help improve employee engagement, workspace optimization, and leadership effectiveness.\n",
      "* Team recognition: CX team for resolving support queries and Design team for completing brand refresh ahead of schedule.\n",
      "* Upcoming events: Q3 Town Hall, Hackathon 2.0 Kickoff, and Diwali Celebration.\n",
      "\n",
      "Let me know if you'd like me to make any changes!\n"
     ]
    }
   ],
   "source": [
    "print(ans)"
   ]
  },
  {
   "cell_type": "code",
   "execution_count": 1,
   "id": "821e714c",
   "metadata": {},
   "outputs": [
    {
     "name": "stdout",
     "output_type": "stream",
     "text": [
      "Collecting fastapi\n",
      "  Downloading fastapi-0.116.0-py3-none-any.whl.metadata (28 kB)\n",
      "Collecting starlette<0.47.0,>=0.40.0 (from fastapi)\n",
      "  Using cached starlette-0.46.2-py3-none-any.whl.metadata (6.2 kB)\n",
      "Requirement already satisfied: pydantic!=1.8,!=1.8.1,!=2.0.0,!=2.0.1,!=2.1.0,<3.0.0,>=1.7.4 in c:\\users\\admin\\desktop\\ai-ml_qb\\email_tasks\\email_venv\\lib\\site-packages (from fastapi) (2.11.7)\n",
      "Requirement already satisfied: typing-extensions>=4.8.0 in c:\\users\\admin\\desktop\\ai-ml_qb\\email_tasks\\email_venv\\lib\\site-packages (from fastapi) (4.14.1)\n",
      "Requirement already satisfied: annotated-types>=0.6.0 in c:\\users\\admin\\desktop\\ai-ml_qb\\email_tasks\\email_venv\\lib\\site-packages (from pydantic!=1.8,!=1.8.1,!=2.0.0,!=2.0.1,!=2.1.0,<3.0.0,>=1.7.4->fastapi) (0.7.0)\n",
      "Requirement already satisfied: pydantic-core==2.33.2 in c:\\users\\admin\\desktop\\ai-ml_qb\\email_tasks\\email_venv\\lib\\site-packages (from pydantic!=1.8,!=1.8.1,!=2.0.0,!=2.0.1,!=2.1.0,<3.0.0,>=1.7.4->fastapi) (2.33.2)\n",
      "Requirement already satisfied: typing-inspection>=0.4.0 in c:\\users\\admin\\desktop\\ai-ml_qb\\email_tasks\\email_venv\\lib\\site-packages (from pydantic!=1.8,!=1.8.1,!=2.0.0,!=2.0.1,!=2.1.0,<3.0.0,>=1.7.4->fastapi) (0.4.1)\n",
      "Requirement already satisfied: anyio<5,>=3.6.2 in c:\\users\\admin\\desktop\\ai-ml_qb\\email_tasks\\email_venv\\lib\\site-packages (from starlette<0.47.0,>=0.40.0->fastapi) (4.9.0)\n",
      "Requirement already satisfied: idna>=2.8 in c:\\users\\admin\\desktop\\ai-ml_qb\\email_tasks\\email_venv\\lib\\site-packages (from anyio<5,>=3.6.2->starlette<0.47.0,>=0.40.0->fastapi) (3.10)\n",
      "Requirement already satisfied: sniffio>=1.1 in c:\\users\\admin\\desktop\\ai-ml_qb\\email_tasks\\email_venv\\lib\\site-packages (from anyio<5,>=3.6.2->starlette<0.47.0,>=0.40.0->fastapi) (1.3.1)\n",
      "Downloading fastapi-0.116.0-py3-none-any.whl (95 kB)\n",
      "   ---------------------------------------- 0.0/95.6 kB ? eta -:--:--\n",
      "   -------------------------------------- - 92.2/95.6 kB 2.6 MB/s eta 0:00:01\n",
      "   ---------------------------------------- 95.6/95.6 kB 1.8 MB/s eta 0:00:00\n",
      "Using cached starlette-0.46.2-py3-none-any.whl (72 kB)\n",
      "Installing collected packages: starlette, fastapi\n",
      "Successfully installed fastapi-0.116.0 starlette-0.46.2\n",
      "Note: you may need to restart the kernel to use updated packages.\n"
     ]
    },
    {
     "name": "stderr",
     "output_type": "stream",
     "text": [
      "\n",
      "[notice] A new release of pip is available: 24.0 -> 25.1.1\n",
      "[notice] To update, run: python.exe -m pip install --upgrade pip\n"
     ]
    }
   ],
   "source": [
    "pip install fastapi"
   ]
  },
  {
   "cell_type": "code",
   "execution_count": null,
   "id": "73a4e98f",
   "metadata": {},
   "outputs": [],
   "source": []
  }
 ],
 "metadata": {
  "kernelspec": {
   "display_name": "Email_venv",
   "language": "python",
   "name": "python3"
  },
  "language_info": {
   "codemirror_mode": {
    "name": "ipython",
    "version": 3
   },
   "file_extension": ".py",
   "mimetype": "text/x-python",
   "name": "python",
   "nbconvert_exporter": "python",
   "pygments_lexer": "ipython3",
   "version": "3.11.9"
  }
 },
 "nbformat": 4,
 "nbformat_minor": 5
}
