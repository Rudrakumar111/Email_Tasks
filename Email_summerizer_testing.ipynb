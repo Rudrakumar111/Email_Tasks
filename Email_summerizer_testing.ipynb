{
 "cells": [
  {
   "cell_type": "code",
   "execution_count": 1,
   "id": "ee36268e",
   "metadata": {},
   "outputs": [
    {
     "name": "stderr",
     "output_type": "stream",
     "text": [
      "c:\\Users\\Admin\\Desktop\\AI-ML_QB\\Email_Tasks\\Email_venv\\Lib\\site-packages\\tqdm\\auto.py:21: TqdmWarning: IProgress not found. Please update jupyter and ipywidgets. See https://ipywidgets.readthedocs.io/en/stable/user_install.html\n",
      "  from .autonotebook import tqdm as notebook_tqdm\n"
     ]
    }
   ],
   "source": [
    "import os\n",
    "import json\n",
    "from langchain_community.document_loaders import PyPDFLoader\n",
    "from langchain_groq.chat_models import ChatGroq\n",
    "from langchain.prompts import PromptTemplate\n",
    "import google.generativeai as genai\n",
    "from langchain_google_genai import ChatGoogleGenerativeAI\n",
    "from langchain_community.llms import Ollama"
   ]
  },
  {
   "cell_type": "code",
   "execution_count": 2,
   "id": "514610ff",
   "metadata": {},
   "outputs": [],
   "source": [
    "# groq_api_key = os.getenv(\"GROQ_API_KEY\")\n",
    "\n",
    "# llm = ChatGroq(\n",
    "#     model_name=\"llama3-8b-8192\",  # Best balance for summarization\n",
    "#     groq_api_key=groq_api_key,\n",
    "#     temperature=0.2\n",
    "# )\n",
    "\n",
    "# using Google api key\n",
    "google_api_key = os.getenv(\"GOOGLE_API_KEY\")\n",
    "llm = ChatGoogleGenerativeAI(model=\"gemini-1.5-flash-latest\", google_api_key=google_api_key)\n",
    "\n",
    "## Using Ollama Model\n",
    "# llm = Ollama(model=\"qwen3:4b\")\n",
    "# llm = Ollama(model=\"gemma3n:e2b\")"
   ]
  },
  {
   "cell_type": "code",
   "execution_count": 3,
   "id": "cec8dd8e",
   "metadata": {},
   "outputs": [],
   "source": [
    "from langchain_core.messages import HumanMessage, SystemMessage\n",
    "\n",
    "messages = [\n",
    "    SystemMessage(content=\"you are intelligent chat bot i need to give summrized subject and body\"),\n",
    "    HumanMessage(content=\"{}\")\n",
    "]"
   ]
  },
  {
   "cell_type": "code",
   "execution_count": 4,
   "id": "9bd52f0e",
   "metadata": {},
   "outputs": [],
   "source": [
    "from langchain_core.prompts import ChatPromptTemplate\n",
    "from langchain_core.output_parsers import StrOutputParser\n",
    "\n",
    "prompt = ChatPromptTemplate.from_messages(\n",
    "    [\n",
    "        (\n",
    "            \"system\", \"\"\"you are intelligent chat bot. you take from, subject and body and give me one meaningful summary using body and suject. also summary size is 2 to 3 line. I don't want to <think> </think> this part.\n",
    "                        i give some important part.\n",
    "                        1. not add this sentence 'This email from'\n",
    "                        2. only use sender name not use recipent names\n",
    "                        3. only start with name and after direct start.\n",
    "            \"\"\"\n",
    "        ),\n",
    "        (\n",
    "            \"user\", \"\"\" From : {from} \n",
    "                        To:{to} \n",
    "                        Subject: {subject}\n",
    "                        body :{body} \n",
    "                        you take From, subject and body and give me one meaningful summary.\"\"\"\n",
    "        )\n",
    "    ]\n",
    ")\n",
    "\n",
    "\n",
    "chain = prompt | llm | StrOutputParser()"
   ]
  },
  {
   "cell_type": "code",
   "execution_count": 5,
   "id": "afb475c3",
   "metadata": {},
   "outputs": [],
   "source": [
    "email_body = \"\"\" \n",
    "Dear Team,\n",
    "\n",
    "I hope this email finds you well.\n",
    "\n",
    "As we close the third quarter of the fiscal year, I would like to take this opportunity to share important updates regarding our company’s performance, newly implemented HR policies, and gather feedback from each department to help shape our direction for Q4.\n",
    "\n",
    "📊 Q3 Highlights:\n",
    "This quarter has been marked by several notable achievements across all departments. Our sales team exceeded targets by 18%, largely due to successful outreach campaigns and onboarding of three major enterprise clients. The product team rolled out the long-anticipated AI-powered analytics module, which has already received positive feedback from early adopters. Meanwhile, operations has reduced turnaround times by 25%, significantly improving client satisfaction scores.\n",
    "\n",
    "📝 Policy Updates:\n",
    "We have implemented a few key HR policy changes that will take effect from October 1st:\n",
    "1. Remote Work Policy: Employees may now work remotely up to 3 days a week with prior approval from their team leads.\n",
    "2. Leave Management: The new system will automatically update and carry over unused paid leave to the next fiscal year, capped at 10 days.\n",
    "3. Wellness Initiatives: Monthly wellness sessions will now include mental health check-ins, and participation will be tracked for wellness incentive points.\n",
    "\n",
    "📥 Your Feedback is Needed:\n",
    "To continuously improve, we request every team member to fill out the **Q3 Feedback Form** by October 5th. Your input will help us refine our strategies for employee engagement, workspace optimization, and leadership effectiveness. We are particularly interested in hearing how the new collaboration tools (e.g., Notion, Slack AI, Zoom integrations) have impacted your workflows.\n",
    "\n",
    "🏆 Team Recognition:\n",
    "A special shoutout to the CX team for resolving over 95% of support queries within SLA, and to the Design team for completing the entire brand refresh 3 weeks ahead of schedule.\n",
    "\n",
    "📅 Upcoming Events:\n",
    "- Q3 Town Hall – Oct 6, 4:00 PM IST\n",
    "- Hackathon 2.0 Kickoff – Oct 10\n",
    "- Diwali Celebration (Hybrid) – Nov 8\n",
    "\n",
    "If you have questions or would like to discuss any of the topics mentioned above, feel free to reach out to your department head or reply directly to this email.\n",
    "\n",
    "Thank you for your continued hard work, commitment, and collaboration. Let’s keep the momentum going into Q4!\n",
    "\n",
    "Warm regards,  \n",
    "Neha Kapoor  \n",
    "HR Director – Innotronix Solutions  \n",
    "hr@innotronix.com\n",
    "\n",
    "\n",
    "\"\"\"\n",
    "email_subject=\"Q3 Performance Review, Policy Updates, and Team Feedback Request\"\n",
    "\n",
    "email_from_id = \"Rudrakumar@gmail.com\"\n",
    "email_to_id = \"Akshit@gmail.com\""
   ]
  },
  {
   "cell_type": "code",
   "execution_count": 6,
   "id": "3d5ffe46",
   "metadata": {},
   "outputs": [],
   "source": [
    "# Before running this cell, make sure the model is available locally by running:\n",
    "# !ollama pull gemma3n:e2b\n",
    "\n",
    "ans = chain.invoke(\n",
    "    {\n",
    "        \"from\": email_from_id,\n",
    "        \"to\": email_to_id,\n",
    "        \"subject\": email_subject,\n",
    "        \"body\": email_body\n",
    "    }\n",
    ")"
   ]
  },
  {
   "cell_type": "code",
   "execution_count": 7,
   "id": "ac88b7b2",
   "metadata": {},
   "outputs": [
    {
     "name": "stdout",
     "output_type": "stream",
     "text": [
      "Rudrakumar shares Q3 performance highlights, including sales exceeding targets and successful product launches.  New HR policies regarding remote work, leave management, and wellness initiatives are effective October 1st.  Employee feedback is requested via a Q3 Feedback Form by October 5th to inform Q4 strategies.\n"
     ]
    }
   ],
   "source": [
    "print(ans)"
   ]
  },
  {
   "cell_type": "code",
   "execution_count": null,
   "id": "bb5687da",
   "metadata": {},
   "outputs": [],
   "source": []
  }
 ],
 "metadata": {
  "kernelspec": {
   "display_name": "Email_venv",
   "language": "python",
   "name": "python3"
  },
  "language_info": {
   "codemirror_mode": {
    "name": "ipython",
    "version": 3
   },
   "file_extension": ".py",
   "mimetype": "text/x-python",
   "name": "python",
   "nbconvert_exporter": "python",
   "pygments_lexer": "ipython3",
   "version": "3.11.9"
  }
 },
 "nbformat": 4,
 "nbformat_minor": 5
}
